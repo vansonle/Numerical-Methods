{
 "cells": [
  {
   "cell_type": "markdown",
   "metadata": {},
   "source": [
    "# MA934  Numerical Methods - Workbook 1"
   ]
  },
  {
   "cell_type": "markdown",
   "metadata": {},
   "source": [
    "* <font color=blue> Well done - excellent work. Comments and marks are in blue text throughout.</font>\n",
    "* <font color=blue> Each question is worth 15 marks and there are 10 marks for clarity and presentation.</font>\n",
    "* <font color=blue> I gave you 9/10 for clarity and presentation. There were a few places where a log-log plot would have been better. In general your plots are very professionally done - I really like the style you have adopted ... might use it myself. Accompanying explanations are clear and concise.</font>"
   ]
  },
  {
   "cell_type": "markdown",
   "metadata": {},
   "source": []
  },
  {
   "cell_type": "markdown",
   "metadata": {},
   "source": [
    "<font color=blue>\n",
    "Overall mark: 15+15+13+13+15+15+9 = 95/100\n",
    "</font>"
   ]
  },
  {
   "cell_type": "code",
   "execution_count": 11,
   "metadata": {
    "collapsed": false
   },
   "outputs": [
    {
     "data": {
      "text/plain": [
       "95"
      ]
     },
     "execution_count": 11,
     "metadata": {},
     "output_type": "execute_result"
    }
   ],
   "source": [
    "15+15+13+13+15+15+9"
   ]
  },
  {
   "cell_type": "markdown",
   "metadata": {},
   "source": [
    "## Question 1: Precision of floating point arithmetic\n",
    "\n",
    "Consider the recursion relation\n",
    "\n",
    "$a_{n+1} = 2\\, a_n - \\frac{8}{9}\\, a_{n-1}$\n",
    "\n",
    "with the initial conditions $a_1=1$ and $a_2=\\frac{2}{3}$. \n",
    "\n",
    "1. Calculate the first 80 terms in this sequence using single precision floating point arithmetic (Float32 in Julia). Plot the resulting sequence on a lin-log plot.\n",
    "\n",
    "2. Repeat the calculation using double precision floating point arithmetic (Float64 in Julia) and add the results to your plot.\n",
    "\n",
    "3. Find the **general** solution of the recursion relation analytically (it should contain two arbitrary constants). Hint: start from the ansatz $a_n = x^n$ and find the the allowed values of $x$.\n",
    "\n",
    "4. Find the solution that satisfies the initial conditions $a_1=1$ and $a_2=\\frac{2}{3}$. \n",
    "\n",
    "5. Find the solution that satisfies the perturbed initial conditions $a_1=1$ and $a_2=\\frac{2}{3}+\\epsilon$. Use the answer to explain your numerical results.\n",
    "\n",
    "6. Julia supports arbitrary precision floating point arithmetic using the BigFloat type (see https://docs.julialang.org/en/latest/manual/integers-and-floating-point-numbers/#Arbitrary-Precision-Arithmetic-1). Try to reproduce the exact solution for the first 80 terms in the sequence using 128 bit precision and show the results on your plot."
   ]
  },
  {
   "cell_type": "markdown",
   "metadata": {},
   "source": [
    "**Answer to 1), 2) and 6)**\n",
    "\n",
    "In the following the first 80 terms are calculated using single precision floating point arithmetic Float32, Float64 and BigFloat. The function Float_exercise() uses the above recursion relation. One can see that the precision worsens for Float32 by around 27 terms and around 58 terms for the Float64 case. For BigFloat (128 Bit), it continues to get more precious up until 80 terms and more."
   ]
  },
  {
   "cell_type": "code",
   "execution_count": null,
   "metadata": {
    "collapsed": true
   },
   "outputs": [],
   "source": [
    "using Plots\n",
    "pyplot()"
   ]
  },
  {
   "cell_type": "code",
   "execution_count": 7,
   "metadata": {
    "collapsed": false
   },
   "outputs": [],
   "source": [
    "include(\"assignment1.jl\");"
   ]
  },
  {
   "cell_type": "code",
   "execution_count": null,
   "metadata": {
    "collapsed": false
   },
   "outputs": [],
   "source": [
    "N = 80\n",
    "\n",
    "#Float_exercise is the function using above recursion relation. The arguments are:\n",
    "#1) a1\n",
    "#2) a2\n",
    "#3) floating point arithmetic type: 1=Float32, 2=Float64, 3=BigFloat\n",
    "#4) N\n",
    "\n",
    "a = Float_exercise(1.0,Float32(2)/Float32(3),1,N)\n",
    "b = Float_exercise(1.0,Float64(2)/Float64(3),2,N)\n",
    "c = Float_exercise(1.0,BigFloat(2)/BigFloat(3),3,N)\n",
    "\n",
    "p = collect(1:1:N)\n",
    "  \n",
    "plot(p, a, yscale=:log10, label =\"Float32\", title =\"Precision of different floating point arithmetic\", \n",
    "    xlabel = \"Terms\", ylabel = \"Lin-Log\")\n",
    "plot!(p, b, label =\"Float64\")\n",
    "plot!(p, c, label =\"BigFloat\")  "
   ]
  },
  {
   "cell_type": "markdown",
   "metadata": {},
   "source": [
    "<font color=blue>\n",
    "Not sure what you mean by \"lin-log\" on the y-axis? Usually you would label the quantity being plotted?\n",
    "</font>"
   ]
  },
  {
   "cell_type": "markdown",
   "metadata": {},
   "source": [
    "**Answer to 3), 4) and 5)**\n",
    "\n",
    "Using the general ansatz: $\\lambda^{n}=a_{n}$ and given the recursive relation and the inital conditions $a_{1}=1,a_{2}=\\frac{2}{3}$:\n",
    "\n",
    "\\begin{align*}\n",
    "    \\lambda^{n+1} &= 2\\lambda^{n}-\\frac{8}{9}\\lambda^{n-1} \\Rightarrow \\lambda^{2}-2\\lambda +\\frac{8}{9} = 0 \n",
    "    \\Rightarrow \\lambda_{1,2} = \\frac{2\\pm\\sqrt{4-4\\frac{8}{9}}}{2} = 1\\pm\\frac{1}{3}\n",
    "\\end{align*}\n",
    "\n",
    "therefore we arrive at:\n",
    "\n",
    "\\begin{align*}\n",
    "    a_{n} = c_{1}\\biggl(\\frac{4}{3}\\biggr)+c_{2}\\biggl(\\frac{2}{3}\\biggr)\n",
    "\\end{align*}\n",
    "\n",
    "Using the initial conditions $a_{1}=1,a_{2}=\\frac{2}{3}$ we get:\n",
    "\n",
    "\\begin{align*}\n",
    "    4c_{1}+2c_{2} &= 3 \\\\\n",
    "    16c_{1}+4c_{2} &= 6 \\\\\n",
    "   \\Rightarrow 8c_{1} &=0 \\Rightarrow c_{2} = \\frac{3}{2}\n",
    "\\end{align*}\n",
    "\n",
    "hence we find the solution:\n",
    "\n",
    "\\begin{align*}\n",
    "    a_{n} = \\frac{3}{2}\\biggl(\\frac{2}{3}\\biggr)^{n}\n",
    "\\end{align*}\n",
    "\n",
    "Using the pertubed initial conditions $a_{1}=1,a_{2}=\\frac{2}{3}+\\epsilon$ we solve:\n",
    "\n",
    "\\begin{align*}\n",
    "    4c_{1} + 2c_{2} &= 3 \\\\\n",
    "    16c_{1}+4c_{2} &= 6+9\\epsilon \\\\\n",
    "    \\Rightarrow 8c_{1} &= 9\\epsilon \\Rightarrow c_{2} = \\frac{6-9\\epsilon}{4}\n",
    "\\end{align*}\n",
    "\n",
    "hence we find the solution with pertubed initial conditions:\n",
    "\n",
    "\\begin{align*}\n",
    "    a_{n} = \\frac{9\\epsilon}{8}\\biggl(\\frac{4}{3}\\biggr)^{n}+\\frac{6-9\\epsilon}{4}\\biggl(\\frac{2}{3}\\biggr)^{n}\n",
    "\\end{align*}\n",
    "\n",
    "The solution introduces the term $\\frac{9\\epsilon}{8}\\biggl(\\frac{4}{3}\\biggr)^{n}$. Obviously, if $\\epsilon$ is $0$, then this term vanishes and we arrive at the solution above. For $\\epsilon$ unequal to zero, this term increases exponentially for large n. Finite precision arithmetic due to limitations of machine precision causes this error factor $\\epsilon$."
   ]
  },
  {
   "cell_type": "markdown",
   "metadata": {},
   "source": [
    "<font color=blue>\n",
    "Excellent answer. \n",
    "</font>"
   ]
  },
  {
   "cell_type": "markdown",
   "metadata": {},
   "source": [
    "<font color=blue>\n",
    "15/15\n",
    "</font>"
   ]
  },
  {
   "cell_type": "markdown",
   "metadata": {},
   "source": [
    "## Question 2: Computational complexity of the mergesort algorithm\n",
    "\n",
    "Consider two arrays of integers, A and B, having lengths n and m respectively. Assuming that the elements of A and B are already sorted in ascending order. The following recursive function merges them to return an array of length n+m whose elements are sorted in ascending order:\n",
    "\n"
   ]
  },
  {
   "cell_type": "markdown",
   "metadata": {},
   "source": [
    "The computational complexity of this function is $n+m$.\n",
    "\n",
    "1. Verify that the function mergepresorted(A, B) works as described.\n",
    "2. Write a recursive function that implements the mergesort algorithm for an array of integers whose length, $n$ is a power of 2: $n=2^m$. Verify that it works by generating some arrays of random integers and using your function to sort them.\n",
    "3. Explain why the computational complexity, $F(n)$, of your mergesort algorithm satisfies the recursion\n",
    "> $F(n) = 2\\, F(\\frac{n}{2}) + n\\ \\ \\ \\ $ with initial condition $F(1)=1$.  \n",
    "4. Introduce the new variable p defined by $n = 2^p$ and let $b_p = F(2^p)$. Show that in these variables the above equation takes the form\n",
    "> $b_p = 2 b_{p−1} + 2^p\\ \\ \\ \\ $ with initial condition $b_0 = 1$.\n",
    "5. Find the general solution to the associated homogeneous recursion relation (ie without the $2^p$ term).\n",
    "6. Find a particular solution of the original inhomogenous recursion relation and use the initial condition to determine the constant in the homogenous solution.\n",
    "7. Hence show that the computational complexity of the mergesort algorithm is\n",
    "> $F(n) = O(n\\, \\log n)$.\n",
    "8. Use Julia's @timed macro to measure the execution time of your mergesort function for arrays of lengths $\\{2^i : i =1 : 15\\}$. Compare the results to the theoretical expectations."
   ]
  },
  {
   "cell_type": "code",
   "execution_count": 4,
   "metadata": {
    "collapsed": false
   },
   "outputs": [],
   "source": [
    "using PyPlot\n",
    "include(\"mergepresorted.jl\");"
   ]
  },
  {
   "cell_type": "markdown",
   "metadata": {},
   "source": [
    "**Answer to 1) and 2)**\n",
    "\n",
    "The function mergesort checks the length of the matrix first and if the length is to the power of 2, it does make the calculations."
   ]
  },
  {
   "cell_type": "code",
   "execution_count": 5,
   "metadata": {
    "collapsed": false
   },
   "outputs": [
    {
     "name": "stdout",
     "output_type": "stream",
     "text": [
      "[1, 2, 3, 5, 7, 7, 8, 9]\n"
     ]
    }
   ],
   "source": [
    "#verifying mergesorted(A,B)\n",
    "A = [1, 2, 5, 7, 8]\n",
    "B = [3, 7, 9]\n",
    "Z = mergepresorted(A, B)\n",
    "println(Z)"
   ]
  },
  {
   "cell_type": "code",
   "execution_count": 8,
   "metadata": {
    "collapsed": false
   },
   "outputs": [
    {
     "name": "stdout",
     "output_type": "stream",
     "text": [
      "[1, 2, 2, 4, 5, 5, 8, 9]\n"
     ]
    }
   ],
   "source": [
    "#verifying mergesort(K)\n",
    "K = [ 2, 5, 8, 1, 4, 9, 2, 5]\n",
    "L = mergesort(K)\n",
    "println(L)"
   ]
  },
  {
   "cell_type": "markdown",
   "metadata": {},
   "source": [
    "**Answer to 3) to 7)**\n",
    "\n",
    "The mergepresorted algorithm runs with complexity $n$ for two arrays of length $n/2$ and $n/2$. The recursive mergesort function uses mergepresorted one time and uses mergesort two times with arrays of size $n/2$. Therefore we have the relation:\n",
    "\n",
    "\\begin{align*}\n",
    "    F(n) = 2F\\biggl(\\frac{n}{2}\\biggr)+n\n",
    "\\end{align*}\n",
    "\n",
    "For the initial condition consider the case where $n=1$ then we make one comparison (if n==1) and return the array hence $F(1)=1$.\n",
    "\n",
    "Now letting $n=2^{p}, b_{p} = F(2^{p})$ we find\n",
    "\n",
    "\\begin{align*}\n",
    "    F(n) = F(2^{p}) = b_{p} = 2F(2^{p}/2)+2^{p} = 2b_{p-1}+2^{p}\n",
    "\\end{align*}\n",
    "\n",
    "since $F(1) = 1$ and $2^{0}=1$ we have the initial condition $b_{0}=1$.\n",
    "\n",
    "The homogenous problem is given by:\n",
    "\n",
    "\\begin{align*}\n",
    "    b^{H}_{p} &= 2b^{H}_{p-1}\n",
    "\\end{align*}\n",
    "\n",
    "then using $\\lambda^{p}=b^{H}_{p}$ we get the characteristic polynomial \n",
    "\n",
    "\\begin{align*}\n",
    "    \\lambda^{p} = 2\\lambda^{p-1} \\Rightarrow \\lambda=2 \\Rightarrow\n",
    "        b_{p}^{P} = Ap2^{p}+B2^{p}, \\enspace A,B\\in \\mathbb{R}\n",
    "\\end{align*}\n",
    "\n",
    "where $b_{p}^{P}$ is the particular solution of the inhomogenous problem.\n",
    "\n",
    "Using the inhomogenous problem\n",
    "\n",
    "\\begin{align*}\n",
    "    Ap2^{p}+B2^{p} = 2(A(p-1)+B)2^{p-1}+2^{p} \\Rightarrow Ap+B = A(p-1)+B+1 \\Rightarrow A=1\n",
    "\\end{align*}\n",
    "\n",
    "For $B$ we use the initial condition $b_{0}=1$\n",
    "\n",
    "\\begin{align*}\n",
    "    b_{0} = 0\\cdot2^{0} + B2^{0} =1 \\Rightarrow B=1\n",
    "\\end{align*}\n",
    "\n",
    "Using $n=2^{p} \\Rightarrow p = log(n)/log(2)$ it follows:\n",
    "\n",
    "\\begin{align*}\n",
    "    b_{p} = 2^{p}(p+1) \\Rightarrow F(n) = n(p+1) = n\\biggl(\\frac{log(n)}{log(2)}+1\\biggr)\\sim O(nlog(n))\n",
    "\\end{align*}\n",
    "\n",
    "\n"
   ]
  },
  {
   "cell_type": "markdown",
   "metadata": {},
   "source": [
    "<font color=blue>\n",
    "This is correct but you pulled the particular solution out of thin air: knowing that $\\lambda=2$ does not immediately\n",
    "imply that the particular solution is $p\\,2^p$. You would probably not be able to just write down the particular solution if the example was a bit more complex.\n",
    "</font>"
   ]
  },
  {
   "cell_type": "markdown",
   "metadata": {},
   "source": [
    "**Answer to 8)**"
   ]
  },
  {
   "cell_type": "code",
   "execution_count": 9,
   "metadata": {
    "collapsed": true
   },
   "outputs": [],
   "source": [
    "#implementation of the mergesort algorithm\n",
    "k = 15\n",
    "temp = zeros(k,2)\n",
    "for n in 1:k\n",
    "    x = rand(1:100_000,2^n)\n",
    "    ~,singleTime,~,~,~ = @timed mergesort(x)\n",
    "    temp[n,1], temp[n,2] = (2^n, singleTime)\n",
    "end"
   ]
  },
  {
   "cell_type": "code",
   "execution_count": 10,
   "metadata": {
    "collapsed": false
   },
   "outputs": [
    {
     "data": {
      "image/png": "[encoded data removed]",
      "text/plain": [
       "PyPlot.Figure(PyObject <matplotlib.figure.Figure object at 0x126cbfb50>)"
      ]
     },
     "metadata": {},
     "output_type": "display_data"
    },
    {
     "data": {
      "text/plain": [
       "PyObject <matplotlib.legend.Legend object at 0x12d0f93d0>"
      ]
     },
     "execution_count": 10,
     "metadata": {},
     "output_type": "execute_result"
    }
   ],
   "source": [
    "x = 0:1:2^k\n",
    "\n",
    "loglog(temp[:,1],temp[:,2], \"x\", markersize=3, label=\"Observed times\")\n",
    "\n",
    "loglog(x,temp[1,2].*(x.*log10.(x)), label=\"Theoretical complexity\")\n",
    "\n",
    "title(\"Theoretical versus observed \\n computational complexity for the mergesort algorithm\")\n",
    "\n",
    "xlabel(\"Length of array\")\n",
    "ylabel(\"Time in seconds\")\n",
    "legend()"
   ]
  },
  {
   "cell_type": "markdown",
   "metadata": {},
   "source": [
    "<font color=blue>\n",
    "I couldn't get this plot to actually display. After lots of tinkering I realised there was a conflict between PyPlot and Plots: PyPlot doesn't seem to work if you do using Plots first? Why did you switch from using Plots above which works fine?\n",
    "</font>"
   ]
  },
  {
   "cell_type": "markdown",
   "metadata": {},
   "source": [
    "<font color=blue>\n",
    "Excellent answer though.\n",
    "</font>"
   ]
  },
  {
   "cell_type": "markdown",
   "metadata": {},
   "source": [
    "<font color=blue>\n",
    "15/15\n",
    "</font>"
   ]
  },
  {
   "cell_type": "code",
   "execution_count": null,
   "metadata": {
    "collapsed": true
   },
   "outputs": [],
   "source": []
  }
 ],
 "metadata": {
  "anaconda-cloud": {},
  "kernelspec": {
   "display_name": "Julia 0.6.0",
   "language": "julia",
   "name": "julia-0.6"
  },
  "language_info": {
   "file_extension": ".jl",
   "mimetype": "application/julia",
   "name": "julia",
   "version": "0.6.0"
  }
 },
 "nbformat": 4,
 "nbformat_minor": 1
}
