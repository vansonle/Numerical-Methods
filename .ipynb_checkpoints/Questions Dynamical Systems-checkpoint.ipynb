{
 "cells": [
  {
   "cell_type": "markdown",
   "metadata": {},
   "source": [
    "## Questions: Dynamical Systems\n",
    "\n",
    "\n",
    "### Steven Strogatz\n",
    "\n",
    "1. what is the difference between ordinary and partial differential equations? (p.5)\n",
    "2. what is called a trajectory and what is a phase space? (p.7/ p.19)\n",
    "3. how is a fixed point defined, stable (=attractors/ sinks)/ unstable? (=repellers, sources) FP? (p.17/ p,19) What is meant with phase point? Phase portrait? Locally stable/ but not globally stable? (p.20)\n",
    "4. Linear stability analysis, slope around the FP, characteristic time scale? (p.25)\n",
    "5. Existence and uniqueness theorem? (p.27)\n",
    "6. What is meant with blow-up? How about the approach to equilibrium in a first-order system? (p.28/ p.29)\n",
    "7. Definition of potential? (p.30) Double-well potential/ bi-stable? (p.31)\n",
    "8. what are bifurcations and bifurcation points, bifurcation diagram? (p.44)\n",
    "9. explain saddle point bifurcation? (p.45)\n",
    "10. typical form of transcritical bifurcation? Important difference between saddle point and transcritical bifurcation? (p.51)\n",
    "11. Explain supercritical pitchfork bifurcation? (p.55)\n",
    "12. Explain supcritical pitchfork bifurcation? (p.58) Hysteresis? (p.60)\n",
    "13. explain the imperfection parameter? (p.69) cusp point? (p.70) cusp catastrophe? (p.72)\n",
    "14. uniform oscillator? (p.95)\n",
    "15. non-uniform oscillator? (p.96)\n",
    "16. fireflies? (p.103)\n",
    "\n",
    "\n",
    "### Lecture Notes:\n",
    "\n",
    "1. ODEs vs iterated maps, autonomous systems vs non-autonomous systems\n",
    "2. Explain (first order system) stability of fixed points: Lyapunov stability, asymptotical stability, exponential stability. Unstability.\n",
    "3. Derive n(t) and conclude based on f'(x). Taylor series, derive $n^{dot}$, characteristic time\n",
    "4. IVP theorem (first order system)\n",
    "5. Definition of potential, derive dV/dt.\n",
    "6. Explain bifurcations, bifurcations points\n",
    "7. Normal form for saddle node bifurcation and transcritical bifurcation and chart the relevant graphs.\n",
    "8. Normal form for pitchfork bifurcation: supercritical and sub-critical and chart the relevant graphs.\n",
    "9. What is meant with cusp singularity and give an example? \n",
    "10. What is the solution to the uniform oscillator, solution for the non-uniform oscillator, chart the non-uniform oscillator.\n",
    "11. Harmonic oscillator and the general solution and converting using change of variables\n",
    "10. Define a stable/ unstable manifold\n",
    "11. Linear systems in R^2: characteristic equation, general solution, classification of fixed points\n",
    "12. Derive normal forms using P and discuss the different cases.\n",
    "12. Existence and uniqueness theorem in R^n\n",
    "13. Theorem (linear stability)\n",
    "14. Lyapunov theorem\n",
    "15. Non-linear oscillations: what is a limit cycle? \n",
    "16. Theorem Poincare-Bendixson (periodic orbit)\n",
    "17. Coupled oscillator\n",
    "18. Relaxation oscillator\n"
   ]
  },
  {
   "cell_type": "markdown",
   "metadata": {},
   "source": []
  },
  {
   "cell_type": "code",
   "execution_count": null,
   "metadata": {},
   "outputs": [],
   "source": []
  }
 ],
 "metadata": {
  "kernelspec": {
   "display_name": "Julia 0.5.2",
   "language": "julia",
   "name": "julia-0.5"
  },
  "language_info": {
   "file_extension": ".jl",
   "mimetype": "application/julia",
   "name": "julia",
   "version": "0.5.2"
  }
 },
 "nbformat": 4,
 "nbformat_minor": 2
}
