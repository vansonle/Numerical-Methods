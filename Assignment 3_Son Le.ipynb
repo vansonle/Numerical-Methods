{
 "cells": [
  {
   "cell_type": "markdown",
   "metadata": {},
   "source": [
    "# MA934 Numerical Methods - Workbook 3\n",
    "\n",
    "If you haven't already done so, install the DualNumbers Julia package. It is a good idea to update all your packages first. The commands are\n",
    "\n",
    ">Pkg.update()\n",
    "\n",
    ">Pkg.add(\"DualNumbers\")\n",
    "\n",
    "but you only need to run them once. "
   ]
  },
  {
   "cell_type": "markdown",
   "metadata": {},
   "source": [
    "## Question 1: Numerical differentiation\n",
    "\n",
    "**1)** Derive a finite difference formula for the derivative of a function $f$ at a point $x$ using the 3-point stencil $(x, x+h, x+2h)$ and state the order of the approximation error in terms of $h$.\n",
    "\n",
    "**2)** Write a formula for the derivative, $f^\\prime(x)$, of the function\n",
    "\n",
    "$$f(x) = \\sin(\\exp(x)) $$\n",
    "\n",
    "and evaluate it at $x=1$.\n",
    "\n",
    "**3)** Use your finite difference formula to approximate the value of $f^\\prime(1)$ for values of $h$ decreasing from $2^{-1}$ to $2^{-30}$ in powers of $2$. Plot the error as a function of $h$ and verify the theoretically predicted scaling of the error with $h$. What is the best relative error you can achieve?\n",
    "\n",
    "**4)** Read the examples at https://github.com/JuliaDiff/DualNumbers.jl. Define a dual number $x = 1+\\epsilon$ and use it to evaluate $f^\\prime(1)$. Verify that the answer is accurate to within machine precision."
   ]
  },
  {
   "cell_type": "markdown",
   "metadata": {},
   "source": [
    "**Answer to 1)** \n",
    "\n",
    "Similar to the lecture notes and defining $f(x_{i+k})=f(x_{i}+kh)$, we use Taylor's theorem:\n",
    "\n",
    "\\begin{align*}\n",
    "    f(x_{i+1})=f(x_{i}+h) &= f(x_{i}) + hf'(x_{i})+\\frac{h^{2}}{2}f''(x_{i}) + O(h^{3}) \\\\\n",
    "    f(x_{i+2})=f(x_{i}+2h) &= f(x_{i}) + 2hf'(x_{i})+\\frac{4h^{2}}{2}f''(x_{i})+O(h^{3})\n",
    "\\end{align*}\n",
    "\n",
    "The linear combination is then given by:\n",
    "\n",
    "\\begin{align*}\n",
    "    a_{1}f(x_{i})+a_{2}f(x_{i+1})+a_{3}f(x_{i+2}) = (a_{1}+a_{2}+a_{3})f(x_{i}) + (a_{2}+2a_{3})hf'(x_{i})+(a_{2}+4a_{3})\\frac{h^{2}}{2}f''(x_{i})+O(h^{3})\n",
    "\\end{align*}\n",
    "\n",
    "We solve for $f'(x_{i})$, so the system is:\n",
    "\n",
    "\\begin{align*}\n",
    "    a_{1}+a_{2}+a_{3} &= 0 \\\\\n",
    "    a_{2}+2a_{3} &= 1 \\\\\n",
    "    a_{2}+4a_{3} &= 0\n",
    "\\end{align*}\n",
    "\n",
    "The solution is $a_{1}=-\\frac{3}{2}, a_{2}=2, a_{3}=-\\frac{1}{2}$. Hence we obtain\n",
    "\n",
    "\\begin{align*}\n",
    "    -\\frac{3}{2}f(x_{i})+2f(x_{i+1})-\\frac{1}{2}f(x_{i+2}) = hf'(x_{i})+O(h^{3}) \n",
    "    \\Rightarrow f'(x_{i}) = \\frac{4f(x_{i+1})-3f(x_{i})-f(x_{i+2})}{2h}+O(h^{2})\n",
    "\\end{align*}"
   ]
  },
  {
   "cell_type": "markdown",
   "metadata": {},
   "source": [
    "**Answer to 2)** \n",
    "\n",
    "The derivative is $f'(x) = e^{x} \\cos{e^{x}}$ and using Julia's analytics, we get: $f'(1) \\approx -2.478349732$."
   ]
  },
  {
   "cell_type": "code",
   "execution_count": 1,
   "metadata": {},
   "outputs": [
    {
     "data": {
      "text/plain": [
       "-2.478349732955235"
      ]
     },
     "execution_count": 1,
     "metadata": {},
     "output_type": "execute_result"
    }
   ],
   "source": [
    "answer2 = e*cos(e)"
   ]
  },
  {
   "cell_type": "markdown",
   "metadata": {},
   "source": [
    "**Answer to 3)** \n"
   ]
  },
  {
   "cell_type": "code",
   "execution_count": 2,
   "metadata": {},
   "outputs": [],
   "source": [
    "#Pkg.update()\n",
    "#Pkg.add(\"DualNumbers\")\n",
    "using PyPlot\n",
    "using DualNumbers;"
   ]
  },
  {
   "cell_type": "code",
   "execution_count": 3,
   "metadata": {},
   "outputs": [],
   "source": [
    "#defining the functions. \n",
    "#f_theoretical is the theoretical first derivative of f(x)\n",
    "#f_approx is the approximated first derivative of f(x)\n",
    "\n",
    "f(x) = sin(exp(x))\n",
    "f_theoretical(x) = cos(exp(x)) * exp(x)\n",
    "f_approx(x,h) = 0.5*(-3*f(x)+4*f(x+h)-f(x+2h))./ h;"
   ]
  },
  {
   "cell_type": "code",
   "execution_count": 4,
   "metadata": {},
   "outputs": [],
   "source": [
    "h = 2.0.^(-collect(1:30))\n",
    "abs_error = abs(f_theoretical(1.0) - f_approx(1.0,h))\n",
    "rel_error = (f_approx(1.0,h) - f_theoretical(1.0))/f_theoretical(1.0)\n",
    "theo_pred_scaling = h.^2.0;"
   ]
  },
  {
   "cell_type": "code",
   "execution_count": 5,
   "metadata": {},
   "outputs": [
    {
     "data": {
      "image/png": "[encoded data removed]",
      "text/plain": [
       "PyPlot.Figure(PyObject <matplotlib.figure.Figure object at 0x7f10801052d0>)"
      ]
     },
     "metadata": {},
     "output_type": "display_data"
    },
    {
     "name": "stdout",
     "output_type": "stream",
     "text": [
      "Best relative error: 3.2358031082852225e-11\n"
     ]
    },
    {
     "data": {
      "text/plain": [
       "PyObject <matplotlib.legend.Legend object at 0x7f10801788d0>"
      ]
     },
     "execution_count": 5,
     "metadata": {},
     "output_type": "execute_result"
    }
   ],
   "source": [
    "M = 2.0.^(-collect(1:30))\n",
    "\n",
    "theoretical = f_theoretical(1.0)\n",
    "approx = zeros(length(M));\n",
    "\n",
    "for i in 1:length(M)\n",
    "    approx[i] = f_approx(1.0,M[i])\n",
    "end\n",
    "\n",
    "loglog(M, abs((approx-theoretical)./theoretical), label=\"Observed relative error\", \"s\", markersize=3)\n",
    "loglog(M,M.^2, label=\"Theoretical error, \"L\"O(h^{2})\", \"^\", markersize=3)\n",
    "title(\"Relative error as a function of h\")\n",
    "xlabel(\"h\")\n",
    "ylabel(\"Relative error\")\n",
    "println(\"Best relative error: \", minimum(abs((approx-theoretical)./theoretical)))\n",
    "legend()"
   ]
  },
  {
   "cell_type": "markdown",
   "metadata": {},
   "source": [
    "**Answer to 4)** "
   ]
  },
  {
   "cell_type": "code",
   "execution_count": 6,
   "metadata": {},
   "outputs": [
    {
     "name": "stdout",
     "output_type": "stream",
     "text": [
      "Machine precision (Float64), ϵₘ = 2.220446049250313e-16\n"
     ]
    }
   ],
   "source": [
    "println(\"Machine precision (Float64), ϵₘ = \", eps())"
   ]
  },
  {
   "cell_type": "markdown",
   "metadata": {},
   "source": [
    "$f(Dual(x))$ gives the derivative when evaluated. The machine precision for Float64 seems to be greater than that."
   ]
  },
  {
   "cell_type": "code",
   "execution_count": 7,
   "metadata": {},
   "outputs": [
    {
     "name": "stdout",
     "output_type": "stream",
     "text": [
      "Error: 1.4835229507361194e-17\n"
     ]
    }
   ],
   "source": [
    "# Dual128 gives Dual(Float64,Float64)\n",
    "theoretical = f_theoretical(BigFloat(1.0))\n",
    "x = Dual128(1.0,1.0)\n",
    "temp = dualpart(f(x))\n",
    "println(\"Error: \", Float64(abs((theoretical-temp)/theoretical)))"
   ]
  },
  {
   "cell_type": "markdown",
   "metadata": {},
   "source": [
    "## Question 2: Finding roots\n",
    "\n",
    "**1)** Referring to the function, $f(x)$, defined above, find the roots of the equation\n",
    "\n",
    "$$ f(x) = 0$$\n",
    "\n",
    "in the interval $0<x<2$.\n",
    "\n",
    "**2)** Implement the bracketing and bisection method to find one of the roots numerically. Measure the error at each iteration of the algorithm and demonstrate that the error decreases exponentially as a function of the number of iterations. To how many digits of precision can you approximate the root?\n",
    "\n",
    "**3)** Perform the same measurements for the Newton Raphson method and show that the error decreases faster than exponentially as a function of the number of iterations."
   ]
  },
  {
   "cell_type": "code",
   "execution_count": null,
   "metadata": {},
   "outputs": [],
   "source": []
  },
  {
   "cell_type": "markdown",
   "metadata": {},
   "source": [
    "## Question 3: Finding minima\n",
    "\n",
    "**1)** The function $f(x)$ above has a single minimum in the interval $0<x<2$. Find its location analytically.\n",
    "\n",
    "**2)** Implement the Golden section search to find the location of this minimum numerically. Plot the error as a function of the number of iterations. To how many digits of precision can you approximate the location of the minimum?\n",
    "\n",
    "**3)** To understand your empirical findings, use Taylor's Theorem to show that near a minimum, $x_*$, of f(x),\n",
    "\n",
    "$$f(x) \\approx f(x_*)\\left( 1+ \\frac{f^{\\prime\\prime}(x_*)}{2\\,f(x_*)}\\,(x-x_*)^2\\right). $$\n",
    "Show that in order for a computer to distinguish between $f(x)$ and $f(x_*)$ we must have\n",
    "\n",
    "$$ \\left| x-x_*\\right| > \\sqrt{\\epsilon_m}\\,\\sqrt{\\left|\\frac{2\\,f(x_*)}{f^{\\prime\\prime}(x_*)}\\right|}$$\n",
    "\n",
    "thus limiting the precision with which the location of a minimum can be determined."
   ]
  },
  {
   "cell_type": "code",
   "execution_count": null,
   "metadata": {},
   "outputs": [],
   "source": []
  },
  {
   "cell_type": "code",
   "execution_count": null,
   "metadata": {},
   "outputs": [],
   "source": []
  }
 ],
 "metadata": {
  "kernelspec": {
   "display_name": "Julia 0.5.2",
   "language": "julia",
   "name": "julia-0.5"
  },
  "language_info": {
   "file_extension": ".jl",
   "mimetype": "application/julia",
   "name": "julia",
   "version": "0.5.2"
  }
 },
 "nbformat": 4,
 "nbformat_minor": 1
}
