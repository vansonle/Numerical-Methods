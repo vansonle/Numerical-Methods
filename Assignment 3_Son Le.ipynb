{
 "cells": [
  {
   "cell_type": "markdown",
   "metadata": {},
   "source": [
    "# MA934 Numerical Methods - Workbook 3\n",
    "\n",
    "If you haven't already done so, install the DualNumbers Julia package. It is a good idea to update all your packages first. The commands are\n",
    "\n",
    ">Pkg.update()\n",
    "\n",
    ">Pkg.add(\"DualNumbers\")\n",
    "\n",
    "but you only need to run them once. "
   ]
  },
  {
   "cell_type": "code",
   "execution_count": null,
   "metadata": {
    "collapsed": true
   },
   "outputs": [],
   "source": [
    "#Pkg.update()\n",
    "#Pkg.add(\"DualNumbers\")\n",
    "using Plots\n",
    "using DualNumbers"
   ]
  },
  {
   "cell_type": "markdown",
   "metadata": {},
   "source": [
    "## Question 1: Numerical differentiation\n",
    "\n",
    "**1))** Derive a finite difference formula for the derivative of a function $f$ at a point $x$ using the 3-point stencil $(x, x+h, x+2h)$ and state the order of the approximation error in terms of $h$.\n",
    "\n",
    "**2)** Write a formula for the derivative, $f^\\prime(x)$, of the function\n",
    "\n",
    "$$f(x) = \\sin(\\exp(x)) $$\n",
    "\n",
    "and evaluate it at $x=1$.\n",
    "\n",
    "**3)** Use your finite difference formula to approximate the value of $f^\\prime(1)$ for values of $h$ decreasing from $2^{-1}$ to $2^{-30}$ in powers of $2$. Plot the error as a function of $h$ and verify the theoretically predicted scaling of the error with $h$. What is the best relative error you can achieve?\n",
    "\n",
    "**4)** Read the examples at https://github.com/JuliaDiff/DualNumbers.jl. Define a dual number $x = 1+\\epsilon$ and use it to evaluate $f^\\prime(1)$. Verify that the answer is accurate to within machine precision."
   ]
  },
  {
   "cell_type": "code",
   "execution_count": 102,
   "metadata": {},
   "outputs": [
    {
     "name": "stderr",
     "output_type": "stream",
     "text": [
      "WARNING: Method definition f(Any) in module Main at In[100]:1 overwritten at In[102]:1.\n",
      "WARNING: Method definition f_theoretical(Any) in module Main at In[100]:2 overwritten at In[102]:2.\n"
     ]
    },
    {
     "ename": "LoadError",
     "evalue": "syntax: extra token \"h\" after end of expression",
     "output_type": "error",
     "traceback": [
      "syntax: extra token \"h\" after end of expression",
      "",
      " in include_string(::String, ::String) at ./loading.jl:441"
     ]
    }
   ],
   "source": [
    "f(x) = sin(exp(x))\n",
    "f_theoretical(x) = cos(exp(x)) * exp(x)\n",
    "f_approx(x,h) = (3*f(x+2h)-4*f(x+h)+f(x)). * h.^(-1) * (-0.5) \n",
    "temp(x,h) = (3*f(x+2h)-4*f(x+h)+f(x))"
   ]
  },
  {
   "cell_type": "code",
   "execution_count": 87,
   "metadata": {},
   "outputs": [
    {
     "data": {
      "text/plain": [
       "30-element Array{Float64,1}:\n",
       " 0.5        \n",
       " 0.25       \n",
       " 0.125      \n",
       " 0.0625     \n",
       " 0.03125    \n",
       " 0.015625   \n",
       " 0.0078125  \n",
       " 0.00390625 \n",
       " 0.00195313 \n",
       " 0.000976563\n",
       " 0.000488281\n",
       " 0.000244141\n",
       " 0.00012207 \n",
       " ⋮          \n",
       " 1.90735e-6 \n",
       " 9.53674e-7 \n",
       " 4.76837e-7 \n",
       " 2.38419e-7 \n",
       " 1.19209e-7 \n",
       " 5.96046e-8 \n",
       " 2.98023e-8 \n",
       " 1.49012e-8 \n",
       " 7.45058e-9 \n",
       " 3.72529e-9 \n",
       " 1.86265e-9 \n",
       " 9.31323e-10"
      ]
     },
     "execution_count": 87,
     "metadata": {},
     "output_type": "execute_result"
    }
   ],
   "source": [
    "h = 2.0.^(-collect(1:30))  "
   ]
  },
  {
   "cell_type": "code",
   "execution_count": 92,
   "metadata": {},
   "outputs": [
    {
     "data": {
      "text/plain": [
       "30-element Array{Float64,1}:\n",
       "  6.98637    \n",
       " -1.14284    \n",
       " -0.859739   \n",
       " -0.387057   \n",
       " -0.175549   \n",
       " -0.0827351  \n",
       " -0.0400589  \n",
       " -0.0196972  \n",
       " -0.00976502 \n",
       " -0.00486154 \n",
       " -0.00242552 \n",
       " -0.00121145 \n",
       " -0.000605394\n",
       "  ⋮          \n",
       " -9.45423e-6 \n",
       " -4.7271e-6  \n",
       " -2.36354e-6 \n",
       " -1.18177e-6 \n",
       " -5.90885e-7 \n",
       " -2.95442e-7 \n",
       " -1.47721e-7 \n",
       " -7.38606e-8 \n",
       " -3.69303e-8 \n",
       " -1.84651e-8 \n",
       " -9.23257e-9 \n",
       " -4.61629e-9 "
      ]
     },
     "execution_count": 92,
     "metadata": {},
     "output_type": "execute_result"
    }
   ],
   "source": [
    "z = temp(1,h)"
   ]
  },
  {
   "cell_type": "code",
   "execution_count": 94,
   "metadata": {},
   "outputs": [
    {
     "data": {
      "text/plain": [
       "30-element Array{Float64,1}:\n",
       " 13.9727 \n",
       " -4.57138\n",
       " -6.87791\n",
       " -6.19291\n",
       " -5.61756\n",
       " -5.29504\n",
       " -5.12754\n",
       " -5.0425 \n",
       " -4.99969\n",
       " -4.97822\n",
       " -4.96746\n",
       " -4.96208\n",
       " -4.95939\n",
       "  ⋮      \n",
       " -4.95674\n",
       " -4.95672\n",
       " -4.95671\n",
       " -4.9567 \n",
       " -4.9567 \n",
       " -4.9567 \n",
       " -4.9567 \n",
       " -4.9567 \n",
       " -4.9567 \n",
       " -4.9567 \n",
       " -4.9567 \n",
       " -4.9567 "
      ]
     },
     "execution_count": 94,
     "metadata": {},
     "output_type": "execute_result"
    }
   ],
   "source": [
    "temp(1,h).*h.^(-1) "
   ]
  },
  {
   "cell_type": "code",
   "execution_count": 101,
   "metadata": {},
   "outputs": [
    {
     "data": {
      "text/plain": [
       "2.478349972467875"
      ]
     },
     "execution_count": 101,
     "metadata": {},
     "output_type": "execute_result"
    }
   ],
   "source": [
    "f_approx(1.0,0.00000001)"
   ]
  },
  {
   "cell_type": "markdown",
   "metadata": {},
   "source": [
    "## Question 2: Finding roots\n",
    "\n",
    "**1)** Referring to the function, $f(x)$, defined above, find the roots of the equation\n",
    "\n",
    "$$ f(x) = 0$$\n",
    "\n",
    "in the interval $0<x<2$.\n",
    "\n",
    "**2)** Implement the bracketing and bisection method to find one of the roots numerically. Measure the error at each iteration of the algorithm and demonstrate that the error decreases exponentially as a function of the number of iterations. To how many digits of precision can you approximate the root?\n",
    "\n",
    "**3)** Perform the same measurements for the Newton Raphson method and show that the error decreases faster than exponentially as a function of the number of iterations."
   ]
  },
  {
   "cell_type": "code",
   "execution_count": null,
   "metadata": {
    "collapsed": true
   },
   "outputs": [],
   "source": []
  },
  {
   "cell_type": "markdown",
   "metadata": {},
   "source": [
    "## Question 3: Finding minima\n",
    "\n",
    "**1)** The function $f(x)$ above has a single minimum in the interval $0<x<2$. Find its location analytically.\n",
    "\n",
    "**2)** Implement the Golden section search to find the location of this minimum numerically. Plot the error as a function of the number of iterations. To how many digits of precision can you approximate the location of the minimum?\n",
    "\n",
    "**3)** To understand your empirical findings, use Taylor's Theorem to show that near a minimum, $x_*$, of f(x),\n",
    "\n",
    "$$f(x) \\approx f(x_*)\\left( 1+ \\frac{f^{\\prime\\prime}(x_*)}{2\\,f(x_*)}\\,(x-x_*)^2\\right). $$\n",
    "Show that in order for a computer to distinguish between $f(x)$ and $f(x_*)$ we must have\n",
    "\n",
    "$$ \\left| x-x_*\\right| > \\sqrt{\\epsilon_m}\\,\\sqrt{\\left|\\frac{2\\,f(x_*)}{f^{\\prime\\prime}(x_*)}\\right|}$$\n",
    "\n",
    "thus limiting the precision with which the location of a minimum can be determined."
   ]
  },
  {
   "cell_type": "code",
   "execution_count": null,
   "metadata": {
    "collapsed": true
   },
   "outputs": [],
   "source": []
  },
  {
   "cell_type": "code",
   "execution_count": null,
   "metadata": {
    "collapsed": true
   },
   "outputs": [],
   "source": []
  }
 ],
 "metadata": {
  "kernelspec": {
   "display_name": "Julia 0.5.2",
   "language": "julia",
   "name": "julia-0.5"
  },
  "language_info": {
   "file_extension": ".jl",
   "mimetype": "application/julia",
   "name": "julia",
   "version": "0.5.2"
  }
 },
 "nbformat": 4,
 "nbformat_minor": 1
}
